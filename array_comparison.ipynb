{
 "cells": [
  {
   "cell_type": "code",
   "execution_count": 1,
   "metadata": {},
   "outputs": [
    {
     "name": "stderr",
     "output_type": "stream",
     "text": [
      "/home/rikk/anaconda3/envs/stats/lib/python3.5/site-packages/h5py/__init__.py:36: FutureWarning: Conversion of the second argument of issubdtype from `float` to `np.floating` is deprecated. In future, it will be treated as `np.float64 == np.dtype(float).type`.\n",
      "  from ._conv import register_converters as _register_converters\n",
      "Using TensorFlow backend.\n"
     ]
    }
   ],
   "source": [
    "from keras.layers import Input, Dense\n",
    "import numpy as np"
   ]
  },
  {
   "cell_type": "code",
   "execution_count": 52,
   "metadata": {},
   "outputs": [],
   "source": [
    "# speed-comparison of two binary matrices as column-wise permutations\n",
    "def speed_comparison(m_1, m_2):\n",
    "    m_1_ints = [m.reshape(m.size, ).dot(2**np.arange(m.size)[::-1]) for m in np.hsplit(m_1, m_1.shape[0])]\n",
    "    m_2_ints = [m.reshape(m.size, ).dot(2**np.arange(m.size)[::-1]) for m in np.hsplit(m_2, m_2.shape[0])]\n",
    "    \n",
    "    return sorted(m_1_ints) == sorted(m_2_ints)"
   ]
  },
  {
   "cell_type": "code",
   "execution_count": 53,
   "metadata": {},
   "outputs": [
    {
     "name": "stdout",
     "output_type": "stream",
     "text": [
      "Pairwise comparison...\n"
     ]
    }
   ],
   "source": [
    "# Generate 10,000 10x10 binary matrices\n",
    "\n",
    "i_matrices = []\n",
    "j_matrices = []\n",
    "for i in range(500):\n",
    "    i_matrices.append(np.random.randint(2, size=16).reshape((4,4)))\n",
    "    j_matrices.append(np.random.randint(2, size=16).reshape((4,4)))\n",
    "\n",
    "print(\"Pairwise comparison...\")\n",
    "    \n",
    "matrix_pairs = []\n",
    "    \n",
    "for i_matrix in i_matrices:\n",
    "    for j_matrix in j_matrices:\n",
    "        # Sort both matrices columnwise-lexically and compare\n",
    "        matrix_pairs.append((i_matrix, j_matrix, speed_comparison(i_matrix, j_matrix)))\n",
    "        "
   ]
  },
  {
   "cell_type": "code",
   "execution_count": 55,
   "metadata": {},
   "outputs": [
    {
     "data": {
      "text/plain": [
       "76"
      ]
     },
     "execution_count": 55,
     "metadata": {},
     "output_type": "execute_result"
    }
   ],
   "source": [
    "len([m for m in matrix_pairs if m[2]])"
   ]
  },
  {
   "cell_type": "code",
   "execution_count": null,
   "metadata": {},
   "outputs": [],
   "source": []
  }
 ],
 "metadata": {
  "kernelspec": {
   "display_name": "Python [conda env:stats]",
   "language": "python",
   "name": "conda-env-stats-py"
  },
  "language_info": {
   "codemirror_mode": {
    "name": "ipython",
    "version": 3
   },
   "file_extension": ".py",
   "mimetype": "text/x-python",
   "name": "python",
   "nbconvert_exporter": "python",
   "pygments_lexer": "ipython3",
   "version": "3.5.2"
  }
 },
 "nbformat": 4,
 "nbformat_minor": 2
}
